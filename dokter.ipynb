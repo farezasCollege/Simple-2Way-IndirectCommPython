{
 "cells": [
  {
   "cell_type": "code",
   "execution_count": 1,
   "metadata": {},
   "outputs": [],
   "source": [
    "# import paho mqtt\n",
    "import paho.mqtt.client as mqtt"
   ]
  },
  {
   "cell_type": "code",
   "execution_count": 2,
   "metadata": {},
   "outputs": [],
   "source": [
    "pas_list = ['pasien_1']"
   ]
  },
  {
   "cell_type": "code",
   "execution_count": 3,
   "metadata": {},
   "outputs": [
    {
     "name": "stdout",
     "output_type": "stream",
     "text": [
      "creating new instance\n",
      "connecting to broker\n",
      "message received  pasien_1 gd = 180\n",
      "Saran bagi pasien = Anda mati sadja\n"
     ]
    }
   ],
   "source": [
    "# buat callback on_message; jika ada pesan\n",
    "# maka fungsi ini akan dipanggil secara asynch\n",
    "########################################\n",
    "def on_message(client, userdata, message):\n",
    "    # print pesan \n",
    "    print(\"message received \" ,str(message.payload.decode(\"utf-8\")))\n",
    "\n",
    "########################################\n",
    "    \n",
    "# buat definisi nama broker yang akan digunakan\n",
    "broker_address=\"127.0.0.1\"\n",
    "\n",
    "# buat client baru bernama P1\n",
    "print(\"creating new instance\")\n",
    "client = mqtt.Client(\"d1\")\n",
    "\n",
    "# kaitkan callback on_message ke client\n",
    "client.on_message=on_message\n",
    "\n",
    "# buat koneksi ke broker\n",
    "print(\"connecting to broker\")\n",
    "client.connect(broker_address, port=3333)\n",
    "\n",
    "# jalankan loop client\n",
    "client.loop_start()\n",
    "\n",
    "for x in pas_list:\n",
    "    subs = x + \"/send\"\n",
    "    client.subscribe(subs)\n",
    "    client.publish(\"d1/send\",input(\"Saran bagi pasien = \"))\n",
    "\n",
    "#stop loop\n",
    "client.loop_stop()"
   ]
  }
 ],
 "metadata": {
  "kernelspec": {
   "display_name": "Python 3",
   "language": "python",
   "name": "python3"
  },
  "language_info": {
   "codemirror_mode": {
    "name": "ipython",
    "version": 3
   },
   "file_extension": ".py",
   "mimetype": "text/x-python",
   "name": "python",
   "nbconvert_exporter": "python",
   "pygments_lexer": "ipython3",
   "version": "3.7.6"
  }
 },
 "nbformat": 4,
 "nbformat_minor": 4
}
