{
 "cells": [
  {
   "cell_type": "code",
   "execution_count": 1,
   "metadata": {},
   "outputs": [],
   "source": [
    "import paho.mqtt.client as mqtt\n",
    "import os"
   ]
  },
  {
   "cell_type": "code",
   "execution_count": 2,
   "metadata": {},
   "outputs": [
    {
     "name": "stdout",
     "output_type": "stream",
     "text": [
      "Silahkan pilih dokter (ketik kode saja): \n"
     ]
    }
   ],
   "source": [
    "#fungsionalitas program\n",
    "dok_dict = {\"d1\" : {\"nama\" : \"dr. Wahidin\",\n",
    "                \"bidang\" : \"Umum\"},\n",
    "        \"d2\" : {\"nama\" : \"dr. Sukoco\",\n",
    "                \"bidang\" : \"Penyakit Dalam\"}\n",
    "        }\n",
    "\n",
    "# def checkKey(d, key): \n",
    "#     if key in d.keys(): \n",
    "#         return 1\n",
    "#     return 0\n",
    "\n",
    "def list_dokter(d):\n",
    "    i = 1\n",
    "    for d_id, d_info in d.items():\n",
    "        for key in range(len(d_info)//2):\n",
    "            print(i,'. Nama: '+d_info['nama'])\n",
    "            print('    Spesialis: '+d_info['bidang'])\n",
    "            print('    Kode: ',d_id)\n",
    "            i+=1\n",
    "\n",
    "# list_dokter(dok_dict)\n",
    "# dok_dict['d1']['nama']\n",
    "\n",
    "def cek_diabetes(client,d,dokter = input(\"Silahkan pilih dokter (ketik kode saja): \")):\n",
    "    if dokter in d.keys():\n",
    "        !CLS\n",
    "        gula_darah = int(input(\"Masukkan kadar gula darah (mg/dl): \"))\n",
    "    #   Gula darah puasa (GDP):\n",
    "    #         Normal (tidak menderita diabetes): di bawah 108 mg/dl\n",
    "    #         Prediabetes: 108-125 mg/dl\n",
    "    #         Diabetes: di atas 125 mg/dl\n",
    "        if gula_darah < 108:\n",
    "            print(\"Kadar masih normal\")\n",
    "        else:\n",
    "            print(\"Kadar gula darah anda diatas normal, anda akan dihubungkan ke \"+dok_dict[dokter]['nama'])\n",
    "            temp = \"pasien_1 gd = \" + str(gula_darah)\n",
    "            client.loop_start()\n",
    "            client.publish(\"pasien_1/send\",temp)       #kirim pesan ke dokter\n",
    "            print(\"Sudah terhubung ke \"+dok_dict[dokter]['nama'])\n",
    "            subs = dokter+\"/send\"                     #subscribe ke dokter dipilih untuk terima pesan dari dokter\n",
    "            client.subscribe(str(subs))\n",
    "            client.loop_stop\n",
    "        \n",
    "    else:\n",
    "        print(\"Data dokter tidak ditemukan!! Silahkan input lagi\")\n",
    "        cek_diabetes(client,d,dokter = input(\"Silahkan pilih dokter (ketik kode saja): \"))\n",
    "        !CLS\n",
    "\n",
    "# cek_diabetes(dok_dict)    \n",
    "# checkKey(dok_dict,\"d5\")\n",
    "def menu(client,dok_dict):\n",
    "    print(\"================== SISTEM KONTROL GULA DARAH =======================\")\n",
    "    list_dokter(dok_dict)\n",
    "    cek_diabetes(client,dok_dict)\n",
    "    "
   ]
  },
  {
   "cell_type": "code",
   "execution_count": 3,
   "metadata": {},
   "outputs": [
    {
     "name": "stdout",
     "output_type": "stream",
     "text": [
      "creating new instance\n",
      "connecting to broker\n",
      "================== SISTEM KONTROL GULA DARAH =======================\n",
      "1 . Nama: dr. Wahidin\n",
      "    Spesialis: Umum\n",
      "    Kode:  d1\n",
      "2 . Nama: dr. Sukoco\n",
      "    Spesialis: Penyakit Dalam\n",
      "    Kode:  d2\n",
      "Data dokter tidak ditemukan!! Silahkan input lagi\n",
      "Silahkan pilih dokter (ketik kode saja): d1\n",
      "\f",
      "\n",
      "Masukkan kadar gula darah (mg/dl): 180\n",
      "Kadar gula darah anda diatas normal, anda akan dihubungkan ke dr. Wahidin\n",
      "Sudah terhubung ke dr. Wahidin\n",
      "\f",
      "\n",
      "Saran dari dokter:  Anda mati sadja\n"
     ]
    }
   ],
   "source": [
    "# definisikan nama broker yang akan digunakan\n",
    "broker_address = \"127.0.0.1\"\n",
    "\n",
    "# buat client baru bernama P2\n",
    "print(\"creating new instance\")\n",
    "client = mqtt.Client(\"pasien_1\")\n",
    "\n",
    "# client.on_publish=on_publish\n",
    "# client.on_message=on_message\n",
    "def on_message(client, userdata, message): \n",
    "    print(\"Saran dari dokter: \" ,str(message.payload.decode(\"utf-8\")))\n",
    "\n",
    "# koneksi ke broker\n",
    "print(\"connecting to broker\")\n",
    "client.connect(broker_address, port=3333)\n",
    "\n",
    "client.on_message=on_message\n",
    "\n",
    "menu(client,dok_dict)"
   ]
  }
 ],
 "metadata": {
  "kernelspec": {
   "display_name": "Python 3",
   "language": "python",
   "name": "python3"
  },
  "language_info": {
   "codemirror_mode": {
    "name": "ipython",
    "version": 3
   },
   "file_extension": ".py",
   "mimetype": "text/x-python",
   "name": "python",
   "nbconvert_exporter": "python",
   "pygments_lexer": "ipython3",
   "version": "3.7.6"
  }
 },
 "nbformat": 4,
 "nbformat_minor": 4
}
